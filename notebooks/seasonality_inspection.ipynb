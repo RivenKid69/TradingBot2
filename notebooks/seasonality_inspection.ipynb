{
  "cells": [
    {
      "cell_type": "markdown",
      "metadata": {},
      "source": [
        "# Seasonality inspection\n",
        "\n",
        "Explore liquidity, latency and spread metrics by hour-of-week."
      ]
    },
    {
      "cell_type": "code",
      "execution_count": null,
      "metadata": {},
      "outputs": [],
      "source": [
        "import pandas as pd\n",
        "import numpy as np\n",
        "import pathlib\n",
        "import matplotlib.pyplot as plt\n",
        "import ipywidgets as widgets\n",
        "\n",
        "data_path = pathlib.Path('data/seasonality_source/trades.parquet')\n",
        "if data_path.exists():\n",
        "    df = pd.read_parquet(data_path)\n",
        "else:\n",
        "    rng = pd.date_range('2024-01-01', periods=24*7, freq='H', tz='UTC')\n",
        "    df = pd.DataFrame({\n",
        "        'ts_ms': (rng.view('int64') // 10**6),\n",
        "        'liquidity': np.random.lognormal(mean=0, sigma=1, size=len(rng)),\n",
        "        'latency_ms': np.random.randint(50, 300, size=len(rng)),\n",
        "        'spread_bps': np.random.uniform(1, 10, size=len(rng)),\n",
        "    })\n",
        "\n",
        "ts = pd.to_datetime(df['ts_ms'], unit='ms', utc=True)\n",
        "df['hour_of_week'] = ts.dt.dayofweek * 24 + ts.dt.hour\n"
      ]
    },
    {
      "cell_type": "code",
      "execution_count": null,
      "metadata": {},
      "outputs": [],
      "source": [
        "hour_slider = widgets.IntSlider(min=0, max=167, value=0, description='Hour')\n",
        "\n",
        "@widgets.interact(hour=hour_slider)\n",
        "def inspect(hour):\n",
        "    subset = df[df['hour_of_week'] == hour]\n",
        "    if subset.empty:\n",
        "        print('No data for this hour')\n",
        "        return\n",
        "    fig, axes = plt.subplots(1, 3, figsize=(15, 4))\n",
        "    axes[0].hist(subset['liquidity'])\n",
        "    axes[0].set_title('Liquidity')\n",
        "    axes[1].hist(subset['latency_ms'])\n",
        "    axes[1].set_title('Latency (ms)')\n",
        "    axes[2].hist(subset['spread_bps'])\n",
        "    axes[2].set_title('Spread (bps)')\n",
        "    plt.show()\n"
      ]
    }
  ],
  "metadata": {
    "kernelspec": {
      "display_name": "Python 3",
      "language": "python",
      "name": "python3"
    },
    "language_info": {
      "name": "python",
      "version": "3.x"
    }
  },
  "nbformat": 4,
  "nbformat_minor": 5
}