{
 "cells": [
  {
   "cell_type": "markdown",
   "metadata": {},
   "source": [
    "# Slippage curve demo\n",
    "This notebook demonstrates alignment between empirical impact/participation data and the calibrated slippage model."
   ]
  },
  {
   "cell_type": "code",
   "execution_count": null,
   "metadata": {},
   "outputs": [],
   "source": [
    "import pandas as pd\n",
    "from slippage import SlippageConfig, model_curve\n",
    "from service_calibrate_slippage import fit_k_closed_form\n",
    "from matplotlib import pyplot as plt\n",
    "\n",
    "trades = pd.read_csv('impact_trades.csv')\n",
    "k = fit_k_closed_form(trades)\n",
    "cfg = SlippageConfig(k=k, default_spread_bps=float(trades['spread_bps'].median()), min_half_spread_bps=float(trades['half_spread_bps'].quantile(0.1)))\n",
    "labels, bins = pd.qcut(trades['participation'], 20, labels=False, retbins=True, duplicates='drop')\n",
    "curve = trades.assign(_bucket=labels).groupby('_bucket')['observed_slip_bps'].mean().to_numpy()\n",
    "mids = (bins[:-1] + bins[1:]) / 2\n",
    "model = model_curve(mids / trades['liquidity'].median(), cfg=cfg, spread_bps=cfg.default_spread_bps)\n",
    "plt.plot(mids, curve, label='empirical')\n",
    "plt.plot(mids, model, label='model')\n",
    "plt.xlabel('participation')\n",
    "plt.ylabel('slippage (bps)')\n",
    "plt.legend()"
   ]
  }
 ],
 "metadata": {
  "kernelspec": {
   "display_name": "Python 3",
   "language": "python",
   "name": "python3"
  },
  "language_info": {
   "name": "python",
   "pygments_lexer": "ipython3"
  }
 },
 "nbformat": 4,
 "nbformat_minor": 5
}
